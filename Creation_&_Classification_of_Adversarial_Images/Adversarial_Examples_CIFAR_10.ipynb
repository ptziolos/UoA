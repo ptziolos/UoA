{
  "nbformat": 4,
  "nbformat_minor": 0,
  "metadata": {
    "accelerator": "GPU",
    "colab": {
      "name": "Adversarial_Examples_CIFAR-10.ipynb",
      "provenance": [],
      "collapsed_sections": []
    },
    "kernelspec": {
      "display_name": "Python 3",
      "name": "python3"
    }
  },
  "cells": [
    {
      "cell_type": "markdown",
      "metadata": {
        "id": "H5H4Pioy62MA"
      },
      "source": [
        "# Libraries"
      ]
    },
    {
      "cell_type": "code",
      "metadata": {
        "id": "88BfpiGT6l3h"
      },
      "source": [
        "import tensorflow as tf\r\n",
        "from matplotlib import pyplot as plt\r\n",
        "from keras import models as m\r\n",
        "from keras import layers as l\r\n",
        "from keras import optimizers as o\r\n",
        "from keras import regularizers as r\r\n",
        "from tqdm import tqdm\r\n",
        "import numpy as np\r\n",
        "from keras.utils.vis_utils import plot_model\r\n",
        "from keras.utils import np_utils\r\n",
        "from keras.callbacks import LearningRateScheduler\r\n",
        "from keras.preprocessing.image import ImageDataGenerator\r\n",
        "import cv2"
      ],
      "execution_count": 16,
      "outputs": []
    },
    {
      "cell_type": "markdown",
      "metadata": {
        "id": "6jYIh2IK68_R"
      },
      "source": [
        "# CIFAR-10\r\n",
        "\r\n",
        "After loading the CIFAR-10 datasets ({x_train, y_train} for the training of our NN and {x_test, y_test} for the evaluation of it) we transformed the color images into gray scale in order to reduce the computational cost. We also reshaped the arrays x_train and x_test to four dimensions so that they could work with the Keras API. In addition, we normalized the values of the pictures in the interval [-1, 1] in order to help our NN converge faster to the solution. Needless to say that, before normalizing our data we casted their values to float so as not to lose any information."
      ]
    },
    {
      "cell_type": "code",
      "metadata": {
        "id": "_llZ58uC6-w3"
      },
      "source": [
        "# Loading the CIFAR-10 dataset\r\n",
        "(x_train, y_train), (x_test, y_test) = tf.keras.datasets.cifar10.load_data()\r\n",
        "\r\n",
        "# Gray scaling the images\r\n",
        "x_train = np.array([cv2.cvtColor(image,cv2.COLOR_BGR2GRAY) for image in x_train])\r\n",
        "x_test = np.array([cv2.cvtColor(image,cv2.COLOR_BGR2GRAY) for image in x_test])\r\n",
        "\r\n",
        "# Reshaping the array to 4-dims so that it can work with the Keras API\r\n",
        "x_train = x_train.reshape(x_train.shape[0], 32, 32, 1)\r\n",
        "x_test = x_test.reshape(x_test.shape[0], 32, 32, 1)\r\n",
        "\r\n",
        "# Casting Float values so that we can get decimal points after division\r\n",
        "x_train = x_train.astype('float32')\r\n",
        "x_test = x_test.astype('float32')\r\n",
        "\r\n",
        "# Normalizing the RGB codes by dividing it to the max RGB value.\r\n",
        "x_train = (x_train - 127.5) / 127.5\r\n",
        "x_test = (x_test - 127.5) / 127.5"
      ],
      "execution_count": 17,
      "outputs": []
    },
    {
      "cell_type": "markdown",
      "metadata": {
        "id": "iUNnVTRvAJIb"
      },
      "source": [
        "# Discriminator\r\n",
        "\r\n",
        "The Discriminator was based on the LeNet-5 architecture and consists of three convolutional layers followed by two fully connected layers with a softmax output of ten classes at the end. In all layers we used LeakyReLU as activation function because it has better gradient propagation than sigmoid and tanh and tackles the dying ReLU problem with its slope. We also used batch normalization and after all layers and L2 regularization in some of the convolutional layers in an attempt to normalize the activations of the various layers and reduce overfitting. In addition we used a dropout regularization after each set of layers to reduce overfitting even more. Finally, we used max-pooling after every two convolutions to reduce the computational cost, by reducing the number of parameters to learn."
      ]
    },
    {
      "cell_type": "code",
      "metadata": {
        "colab": {
          "base_uri": "https://localhost:8080/"
        },
        "id": "pwYYAV6I2-Od",
        "outputId": "3f7c65ae-db78-4cb5-b2e3-229062129073"
      },
      "source": [
        "discriminator = m.Sequential()\r\n",
        "\r\n",
        "discriminator.add(l.Conv2D(32, kernel_size=3, kernel_initializer='he_uniform',\r\n",
        "                  strides=1, padding='same', input_shape=(32, 32, 1), \r\n",
        "                  kernel_regularizer=r.l2(0.0002)))\r\n",
        "discriminator.add(l.LeakyReLU(alpha=0.2))\r\n",
        "discriminator.add(l.BatchNormalization())\r\n",
        "discriminator.add(l.MaxPooling2D(pool_size=2, strides=2))\r\n",
        "discriminator.add(l.Dropout(0.35))\r\n",
        "\r\n",
        "\r\n",
        "discriminator.add(l.Conv2D(64, kernel_size=3, kernel_initializer='he_uniform',\r\n",
        "                  strides=1, padding='same', kernel_regularizer=r.l2(0.0002)))\r\n",
        "discriminator.add(l.LeakyReLU(alpha=0.2))\r\n",
        "discriminator.add(l.BatchNormalization())\r\n",
        "discriminator.add(l.MaxPooling2D(pool_size=2, strides=2))\r\n",
        "discriminator.add(l.Dropout(0.35))\r\n",
        "\r\n",
        "\r\n",
        "discriminator.add(l.Conv2D(128, kernel_size=3, kernel_initializer='he_uniform',\r\n",
        "                  strides=1, padding='same', kernel_regularizer=r.l2(0.0002)))\r\n",
        "discriminator.add(l.LeakyReLU(alpha=0.2))\r\n",
        "discriminator.add(l.BatchNormalization())\r\n",
        "discriminator.add(l.MaxPooling2D(pool_size=2, strides=2))\r\n",
        "discriminator.add(l.Dropout(0.35))\r\n",
        "\r\n",
        "discriminator.add(l.Flatten())\r\n",
        "\r\n",
        "discriminator.add(l.Dense(128,kernel_initializer='he_uniform'))\r\n",
        "discriminator.add(l.LeakyReLU(alpha=0.2))\r\n",
        "discriminator.add(l.BatchNormalization())\r\n",
        "discriminator.add(l.Dropout(0.35))\r\n",
        "\r\n",
        "discriminator.add(l.Dense(64,kernel_initializer='he_uniform'))\r\n",
        "discriminator.add(l.LeakyReLU(alpha=0.2))\r\n",
        "discriminator.add(l.BatchNormalization())\r\n",
        "discriminator.add(l.Dropout(0.35))\r\n",
        "\r\n",
        "discriminator.add(l.Dense(10, activation='softmax'))\r\n",
        "\r\n",
        "discriminator.summary()\r\n",
        "# plot_model(discriminator, to_file='discriminator_plot.png',\r\n",
        "#            show_shapes=True, show_layer_names=True)"
      ],
      "execution_count": 18,
      "outputs": [
        {
          "output_type": "stream",
          "text": [
            "Model: \"sequential_4\"\n",
            "_________________________________________________________________\n",
            "Layer (type)                 Output Shape              Param #   \n",
            "=================================================================\n",
            "conv2d_9 (Conv2D)            (None, 32, 32, 32)        320       \n",
            "_________________________________________________________________\n",
            "leaky_re_lu_18 (LeakyReLU)   (None, 32, 32, 32)        0         \n",
            "_________________________________________________________________\n",
            "batch_normalization_11 (Batc (None, 32, 32, 32)        128       \n",
            "_________________________________________________________________\n",
            "max_pooling2d_6 (MaxPooling2 (None, 16, 16, 32)        0         \n",
            "_________________________________________________________________\n",
            "dropout_11 (Dropout)         (None, 16, 16, 32)        0         \n",
            "_________________________________________________________________\n",
            "conv2d_10 (Conv2D)           (None, 16, 16, 64)        18496     \n",
            "_________________________________________________________________\n",
            "leaky_re_lu_19 (LeakyReLU)   (None, 16, 16, 64)        0         \n",
            "_________________________________________________________________\n",
            "batch_normalization_12 (Batc (None, 16, 16, 64)        256       \n",
            "_________________________________________________________________\n",
            "max_pooling2d_7 (MaxPooling2 (None, 8, 8, 64)          0         \n",
            "_________________________________________________________________\n",
            "dropout_12 (Dropout)         (None, 8, 8, 64)          0         \n",
            "_________________________________________________________________\n",
            "conv2d_11 (Conv2D)           (None, 8, 8, 128)         73856     \n",
            "_________________________________________________________________\n",
            "leaky_re_lu_20 (LeakyReLU)   (None, 8, 8, 128)         0         \n",
            "_________________________________________________________________\n",
            "batch_normalization_13 (Batc (None, 8, 8, 128)         512       \n",
            "_________________________________________________________________\n",
            "max_pooling2d_8 (MaxPooling2 (None, 4, 4, 128)         0         \n",
            "_________________________________________________________________\n",
            "dropout_13 (Dropout)         (None, 4, 4, 128)         0         \n",
            "_________________________________________________________________\n",
            "flatten_2 (Flatten)          (None, 2048)              0         \n",
            "_________________________________________________________________\n",
            "dense_9 (Dense)              (None, 128)               262272    \n",
            "_________________________________________________________________\n",
            "leaky_re_lu_21 (LeakyReLU)   (None, 128)               0         \n",
            "_________________________________________________________________\n",
            "batch_normalization_14 (Batc (None, 128)               512       \n",
            "_________________________________________________________________\n",
            "dropout_14 (Dropout)         (None, 128)               0         \n",
            "_________________________________________________________________\n",
            "dense_10 (Dense)             (None, 64)                8256      \n",
            "_________________________________________________________________\n",
            "leaky_re_lu_22 (LeakyReLU)   (None, 64)                0         \n",
            "_________________________________________________________________\n",
            "batch_normalization_15 (Batc (None, 64)                256       \n",
            "_________________________________________________________________\n",
            "dropout_15 (Dropout)         (None, 64)                0         \n",
            "_________________________________________________________________\n",
            "dense_11 (Dense)             (None, 10)                650       \n",
            "=================================================================\n",
            "Total params: 365,514\n",
            "Trainable params: 364,682\n",
            "Non-trainable params: 832\n",
            "_________________________________________________________________\n"
          ],
          "name": "stdout"
        }
      ]
    },
    {
      "cell_type": "markdown",
      "metadata": {
        "id": "P7ycHjJJbjPu"
      },
      "source": [
        "# Compilation & Evaluation\r\n",
        "\r\n",
        "For the compilation of the Discriminator we used as loss function the categorical crossentropy for we had the tags one hot encoded, as optimizer the Adam optimizer and as metrics the accuracy of the predicted images. As far as the training is concerned we had our neural network train for 26 epochs, while enabling the shuffling of the images in the training set."
      ]
    },
    {
      "cell_type": "code",
      "metadata": {
        "colab": {
          "base_uri": "https://localhost:8080/"
        },
        "id": "CZLsmTWGbnhR",
        "outputId": "74cc5a8a-edc0-49fe-9941-610c6e49d087"
      },
      "source": [
        "# Onehot encoding\r\n",
        "y_train = np_utils.to_categorical(y_train, 10)\r\n",
        "y_test = np_utils.to_categorical(y_test, 10)\r\n",
        "\r\n",
        "# Compilation\r\n",
        "discriminator.compile(loss='categorical_crossentropy', \r\n",
        "                      optimizer=o.Adam(lr=0.0009, decay=1e-6),\r\n",
        "                      metrics=['accuracy'])\r\n",
        "\r\n",
        "# Evaluation\r\n",
        "discriminator.fit(x=x_train, y=y_train, epochs=26, shuffle=True, \r\n",
        "                  validation_data=(x_test, y_test), batch_size=64)"
      ],
      "execution_count": 19,
      "outputs": [
        {
          "output_type": "stream",
          "text": [
            "Epoch 1/26\n",
            "782/782 [==============================] - 6s 6ms/step - loss: 2.2075 - accuracy: 0.2939 - val_loss: 1.9815 - val_accuracy: 0.3537\n",
            "Epoch 2/26\n",
            "782/782 [==============================] - 5s 6ms/step - loss: 1.5348 - accuracy: 0.4856 - val_loss: 1.3287 - val_accuracy: 0.5634\n",
            "Epoch 3/26\n",
            "782/782 [==============================] - 5s 6ms/step - loss: 1.3473 - accuracy: 0.5603 - val_loss: 1.2508 - val_accuracy: 0.5977\n",
            "Epoch 4/26\n",
            "782/782 [==============================] - 5s 6ms/step - loss: 1.2515 - accuracy: 0.5902 - val_loss: 1.0996 - val_accuracy: 0.6483\n",
            "Epoch 5/26\n",
            "782/782 [==============================] - 5s 6ms/step - loss: 1.1753 - accuracy: 0.6196 - val_loss: 1.0520 - val_accuracy: 0.6595\n",
            "Epoch 6/26\n",
            "782/782 [==============================] - 5s 6ms/step - loss: 1.1195 - accuracy: 0.6395 - val_loss: 0.9659 - val_accuracy: 0.6919\n",
            "Epoch 7/26\n",
            "782/782 [==============================] - 5s 6ms/step - loss: 1.0756 - accuracy: 0.6547 - val_loss: 0.9608 - val_accuracy: 0.6908\n",
            "Epoch 8/26\n",
            "782/782 [==============================] - 5s 6ms/step - loss: 1.0618 - accuracy: 0.6605 - val_loss: 0.8988 - val_accuracy: 0.7089\n",
            "Epoch 9/26\n",
            "782/782 [==============================] - 5s 6ms/step - loss: 1.0261 - accuracy: 0.6746 - val_loss: 0.8744 - val_accuracy: 0.7247\n",
            "Epoch 10/26\n",
            "782/782 [==============================] - 5s 6ms/step - loss: 1.0099 - accuracy: 0.6815 - val_loss: 0.9020 - val_accuracy: 0.7168\n",
            "Epoch 11/26\n",
            "782/782 [==============================] - 5s 6ms/step - loss: 0.9893 - accuracy: 0.6858 - val_loss: 0.8610 - val_accuracy: 0.7278\n",
            "Epoch 12/26\n",
            "782/782 [==============================] - 5s 6ms/step - loss: 0.9734 - accuracy: 0.6952 - val_loss: 0.8504 - val_accuracy: 0.7343\n",
            "Epoch 13/26\n",
            "782/782 [==============================] - 5s 6ms/step - loss: 0.9657 - accuracy: 0.6943 - val_loss: 0.8129 - val_accuracy: 0.7469\n",
            "Epoch 14/26\n",
            "782/782 [==============================] - 5s 6ms/step - loss: 0.9484 - accuracy: 0.7019 - val_loss: 0.8511 - val_accuracy: 0.7348\n",
            "Epoch 15/26\n",
            "782/782 [==============================] - 5s 6ms/step - loss: 0.9429 - accuracy: 0.7060 - val_loss: 0.8365 - val_accuracy: 0.7421\n",
            "Epoch 16/26\n",
            "782/782 [==============================] - 5s 6ms/step - loss: 0.9358 - accuracy: 0.7095 - val_loss: 0.8326 - val_accuracy: 0.7417\n",
            "Epoch 17/26\n",
            "782/782 [==============================] - 5s 6ms/step - loss: 0.9222 - accuracy: 0.7137 - val_loss: 0.8039 - val_accuracy: 0.7536\n",
            "Epoch 18/26\n",
            "782/782 [==============================] - 5s 6ms/step - loss: 0.9176 - accuracy: 0.7178 - val_loss: 0.7890 - val_accuracy: 0.7591\n",
            "Epoch 19/26\n",
            "782/782 [==============================] - 5s 6ms/step - loss: 0.9176 - accuracy: 0.7158 - val_loss: 0.7929 - val_accuracy: 0.7564\n",
            "Epoch 20/26\n",
            "782/782 [==============================] - 5s 6ms/step - loss: 0.9081 - accuracy: 0.7179 - val_loss: 0.7821 - val_accuracy: 0.7630\n",
            "Epoch 21/26\n",
            "782/782 [==============================] - 5s 6ms/step - loss: 0.8977 - accuracy: 0.7230 - val_loss: 0.8120 - val_accuracy: 0.7524\n",
            "Epoch 22/26\n",
            "782/782 [==============================] - 5s 6ms/step - loss: 0.8947 - accuracy: 0.7206 - val_loss: 0.7833 - val_accuracy: 0.7608\n",
            "Epoch 23/26\n",
            "782/782 [==============================] - 5s 6ms/step - loss: 0.8777 - accuracy: 0.7302 - val_loss: 0.7510 - val_accuracy: 0.7761\n",
            "Epoch 24/26\n",
            "782/782 [==============================] - 5s 6ms/step - loss: 0.8814 - accuracy: 0.7288 - val_loss: 0.8061 - val_accuracy: 0.7509\n",
            "Epoch 25/26\n",
            "782/782 [==============================] - 5s 6ms/step - loss: 0.8783 - accuracy: 0.7262 - val_loss: 0.8037 - val_accuracy: 0.7566\n",
            "Epoch 26/26\n",
            "782/782 [==============================] - 5s 6ms/step - loss: 0.8706 - accuracy: 0.7324 - val_loss: 0.7539 - val_accuracy: 0.7750\n"
          ],
          "name": "stdout"
        },
        {
          "output_type": "execute_result",
          "data": {
            "text/plain": [
              "<tensorflow.python.keras.callbacks.History at 0x7f003b8f2350>"
            ]
          },
          "metadata": {
            "tags": []
          },
          "execution_count": 19
        }
      ]
    },
    {
      "cell_type": "markdown",
      "metadata": {
        "id": "7bmPvELKW3AS"
      },
      "source": [
        "# Generator\r\n",
        "\r\n",
        "The Generator consists of one dense input layer followed by three transposed convolutional layers with a tanh output layer at the end. Again, as in the Discriminator, we used the LeakyReLU as activation function in all layers, except the output, because it has better gradient propagation than sigmoid and tanh and tackles the dying ReLU problem with its slope. We also used batch normalization after all layers to normalize their activations. The number of nodes in the input layer is a multiple of 16 (4x4), which then is multiplied by 2 from each of the three transposed convolutional filters and finally gets resized in a (32, 32, 1) image which is the generated image. The reason we used tanh as the activation function of the output layer is because it gave us the best results for this network."
      ]
    },
    {
      "cell_type": "code",
      "metadata": {
        "colab": {
          "base_uri": "https://localhost:8080/"
        },
        "id": "HBw2EmmdW8y5",
        "outputId": "657b7038-7285-4b7c-b758-83c384faf77f"
      },
      "source": [
        "# define the number of nodes in the Input layer\r\n",
        "n_nodes = 256 * 4 * 4\r\n",
        "\r\n",
        "generator = m.Sequential()\r\n",
        "\r\n",
        "# foundation for 4x4 image\r\n",
        "generator.add(l.Dense(n_nodes, input_dim=1))\r\n",
        "generator.add(l.LeakyReLU(alpha=0.2))\r\n",
        "generator.add(l.Reshape((4, 4, 256)))\r\n",
        "\r\n",
        "# upsample to 8x8\r\n",
        "generator.add(l.Conv2DTranspose(512, (4,4), strides=(2,2), padding='same'))\r\n",
        "generator.add(l.LeakyReLU(alpha=0.2))\r\n",
        "\r\n",
        "# upsample to 16x16\r\n",
        "generator.add(l.Conv2DTranspose(768, (4,4), strides=(2,2), padding='same'))\r\n",
        "generator.add(l.LeakyReLU(alpha=0.2))\r\n",
        "\r\n",
        "# upsample to 32x32\r\n",
        "generator.add(l.Conv2DTranspose(1024, (4,4), strides=(2,2), padding='same'))\r\n",
        "generator.add(l.LeakyReLU(alpha=0.2))\r\n",
        "\r\n",
        "# output\r\n",
        "generator.add(l.Dense(1, activation='tanh'))\r\n",
        "generator.add(l.Reshape((32, 32, 1)))\r\n",
        "\r\n",
        "generator.summary()\r\n",
        "# plot_model(generator, to_file='generator_plot.png', show_shapes=True,\r\n",
        "#            show_layer_names=True)\r\n"
      ],
      "execution_count": 20,
      "outputs": [
        {
          "output_type": "stream",
          "text": [
            "Model: \"sequential_5\"\n",
            "_________________________________________________________________\n",
            "Layer (type)                 Output Shape              Param #   \n",
            "=================================================================\n",
            "dense_12 (Dense)             (None, 4096)              8192      \n",
            "_________________________________________________________________\n",
            "leaky_re_lu_23 (LeakyReLU)   (None, 4096)              0         \n",
            "_________________________________________________________________\n",
            "reshape_2 (Reshape)          (None, 4, 4, 256)         0         \n",
            "_________________________________________________________________\n",
            "conv2d_transpose_3 (Conv2DTr (None, 8, 8, 512)         2097664   \n",
            "_________________________________________________________________\n",
            "leaky_re_lu_24 (LeakyReLU)   (None, 8, 8, 512)         0         \n",
            "_________________________________________________________________\n",
            "conv2d_transpose_4 (Conv2DTr (None, 16, 16, 768)       6292224   \n",
            "_________________________________________________________________\n",
            "leaky_re_lu_25 (LeakyReLU)   (None, 16, 16, 768)       0         \n",
            "_________________________________________________________________\n",
            "conv2d_transpose_5 (Conv2DTr (None, 32, 32, 1024)      12583936  \n",
            "_________________________________________________________________\n",
            "leaky_re_lu_26 (LeakyReLU)   (None, 32, 32, 1024)      0         \n",
            "_________________________________________________________________\n",
            "dense_13 (Dense)             (None, 32, 32, 1)         1025      \n",
            "_________________________________________________________________\n",
            "reshape_3 (Reshape)          (None, 32, 32, 1)         0         \n",
            "=================================================================\n",
            "Total params: 20,983,041\n",
            "Trainable params: 20,983,041\n",
            "Non-trainable params: 0\n",
            "_________________________________________________________________\n"
          ],
          "name": "stdout"
        }
      ]
    },
    {
      "cell_type": "markdown",
      "metadata": {
        "id": "A5BPDoy0d9o7"
      },
      "source": [
        "# Compilation\r\n",
        "\r\n",
        "For the compilation of the Generator we used as loss function the mean squared error because it is mostly used for regression and we want to generate copies of images, as optimizer the Adam optimizer and as metrics the root mean squared error of the generated images."
      ]
    },
    {
      "cell_type": "code",
      "metadata": {
        "id": "T0qn2sVveBBL"
      },
      "source": [
        "generator.compile(loss='mean_squared_error', \r\n",
        "                  optimizer=o.Adam(lr=0.0009, decay=1e-6),\r\n",
        "                  metrics=[tf.keras.metrics.RootMeanSquaredError()])"
      ],
      "execution_count": 21,
      "outputs": []
    },
    {
      "cell_type": "markdown",
      "metadata": {
        "id": "MzGbguLltB5B"
      },
      "source": [
        "# Generative Adversarial Network\r\n",
        "\r\n",
        "The generative adversarial network consists of the Generator as input and the Discriminator which was rendered not trainable as output."
      ]
    },
    {
      "cell_type": "code",
      "metadata": {
        "colab": {
          "base_uri": "https://localhost:8080/"
        },
        "id": "_8faG4M1tIQr",
        "outputId": "93589ed1-1a5b-4670-8abb-5303d6c505b8"
      },
      "source": [
        "discriminator.trainable = False\r\n",
        "\r\n",
        "gan = m.Sequential()\r\n",
        "gan.add(generator)\r\n",
        "gan.add(discriminator)\r\n",
        "\r\n",
        "gan.summary()\r\n",
        "# plot_model(gan, to_file='gan_plot.png', show_shapes=True, show_layer_names=True)"
      ],
      "execution_count": 22,
      "outputs": [
        {
          "output_type": "stream",
          "text": [
            "Model: \"sequential_6\"\n",
            "_________________________________________________________________\n",
            "Layer (type)                 Output Shape              Param #   \n",
            "=================================================================\n",
            "sequential_5 (Sequential)    (None, 32, 32, 1)         20983041  \n",
            "_________________________________________________________________\n",
            "sequential_4 (Sequential)    (None, 10)                365514    \n",
            "=================================================================\n",
            "Total params: 21,348,555\n",
            "Trainable params: 20,983,041\n",
            "Non-trainable params: 365,514\n",
            "_________________________________________________________________\n"
          ],
          "name": "stdout"
        }
      ]
    },
    {
      "cell_type": "markdown",
      "metadata": {
        "id": "Q0LDBjrW15h0"
      },
      "source": [
        "# Compilation\r\n",
        "\r\n",
        "For the compilation of the GAN we used as loss function the categorical crossentropy, as optimizer the Adam optimizer and as metrics the accuracy of the predicted images because we use the Discriminator as output."
      ]
    },
    {
      "cell_type": "code",
      "metadata": {
        "id": "vgqkWpJO15h1"
      },
      "source": [
        "gan.compile(loss='categorical_crossentropy', \r\n",
        "            optimizer=o.Adam(lr=0.0009, decay=1e-6),\r\n",
        "            metrics='accuracy')"
      ],
      "execution_count": 23,
      "outputs": []
    },
    {
      "cell_type": "markdown",
      "metadata": {
        "id": "oNCahlE6CJh2"
      },
      "source": [
        "# Training\r\n",
        "\r\n",
        "The GAN used 1 image of our liking to construct adversary images of all other classes, with a training of 100 epochs for each class."
      ]
    },
    {
      "cell_type": "code",
      "metadata": {
        "id": "riNxYJNYCNiK",
        "colab": {
          "base_uri": "https://localhost:8080/"
        },
        "outputId": "e04736df-d096-4eec-c53f-51f5a6ecab7d"
      },
      "source": [
        "classes = np.array([0, 1, 2, 3, 4, 5, 6, 7, 8, 9])\r\n",
        "generated_images = []\r\n",
        "\r\n",
        "images = x_train[30:31]\r\n",
        "for image in images:\r\n",
        "  for target in classes:\r\n",
        "    if target != y_train[31][0]:\r\n",
        "      target_class = np.zeros((1,10))\r\n",
        "      target_class[0][target] = 1\r\n",
        "      for _ in tqdm(range(100)):\r\n",
        "        generator.train_on_batch([np.array([1])], image.reshape((1,32,32,1)))\r\n",
        "        gan.train_on_batch([np.array([1])], target_class)\r\n",
        "      generated_images.append(generator.predict([np.array([1])]))"
      ],
      "execution_count": 24,
      "outputs": [
        {
          "output_type": "stream",
          "text": [
            "100%|██████████| 100/100 [00:05<00:00, 18.49it/s]\n",
            "100%|██████████| 100/100 [00:04<00:00, 24.26it/s]\n",
            "100%|██████████| 100/100 [00:04<00:00, 24.29it/s]\n",
            "100%|██████████| 100/100 [00:04<00:00, 24.34it/s]\n",
            "100%|██████████| 100/100 [00:04<00:00, 24.38it/s]\n",
            "100%|██████████| 100/100 [00:04<00:00, 24.47it/s]\n",
            "100%|██████████| 100/100 [00:04<00:00, 24.44it/s]\n",
            "100%|██████████| 100/100 [00:04<00:00, 24.45it/s]\n",
            "100%|██████████| 100/100 [00:04<00:00, 24.57it/s]\n"
          ],
          "name": "stderr"
        }
      ]
    },
    {
      "cell_type": "markdown",
      "metadata": {
        "id": "Wyj6GkjBFA0D"
      },
      "source": [
        "# Results\r\n",
        "\r\n",
        "Below we print the adversary images and also the class that the Discriminator predicts them to be."
      ]
    },
    {
      "cell_type": "code",
      "metadata": {
        "id": "k_Z63PBGFC59",
        "colab": {
          "base_uri": "https://localhost:8080/",
          "height": 591
        },
        "outputId": "08c6416e-327c-4dd5-87d9-4a3b34085e14"
      },
      "source": [
        "labels = ['airplane', 'automobile', 'bird', 'cat', 'deer',\r\n",
        "          'dog', 'frog', 'horse', 'ship', 'truck']\r\n",
        "\r\n",
        "plt.figure(figsize=(10,10))\r\n",
        "for i in range(len(generated_images)):\r\n",
        "  plt.subplot(len(images)*3, (len(classes) - 1)/3, i+1)\r\n",
        "  plt.axis('off')\r\n",
        "  plt.imshow(((generated_images[i]+1)/2).reshape((32,32)), cmap='gray')\r\n",
        "  plt.title(labels[np.argmax(discriminator.predict(generated_images[i]))])\r\n",
        "# save plot to file\r\n",
        "filename = 'generated_images.png' \r\n",
        "plt.savefig(filename)\r\n",
        "plt.show()\r\n"
      ],
      "execution_count": 25,
      "outputs": [
        {
          "output_type": "display_data",
          "data": {
            "image/png": "[encoded data removed]",
            "text/plain": [
              "<Figure size 720x720 with 9 Axes>"
            ]
          },
          "metadata": {
            "tags": [],
            "needs_background": "light"
          }
        }
      ]
    },
    {
      "cell_type": "markdown",
      "metadata": {
        "id": "hwQZmSiS29xB"
      },
      "source": [
        "# Comments\r\n",
        "\r\n",
        "From the above images we can see that the GAN could construct pretty good adversarial images for all classes. Although, the noise is perceptible to the human eye it is really difficult to match its pattern to one of the classes that the Discriminator does."
      ]
    },
    {
      "cell_type": "markdown",
      "metadata": {
        "id": "MpGn6B5-6mLE"
      },
      "source": [
        "# Overcomming the problem\r\n",
        "\r\n",
        "We believe that a way to defend against adversarial attacks is, firstly, by building a deep neural network, capable of discerning many different patterns. Secondly, by augmenting the data (e.g. rotating, width & height shifting, horizontal flipping and zooming the image) the neural network can achieve better generalization and thus have it's prediction accuracy increased, on new data. Finally, by introducing gaussian noise at the output of each set of layers of the neural network, we can make it develop an even greater generalization ability."
      ]
    },
    {
      "cell_type": "markdown",
      "metadata": {
        "id": "b5fsd_lT7LoQ"
      },
      "source": [
        "# Deeper Discriminator\r\n",
        "\r\n",
        "The Deeper Discriminator model is based on the previous Discriminator architecture and consists of six convolutional layers, followed by three fully connected layers with a softmax output of ten classes at the end. In all layers, except the output, we used LeakyReLU as activation function because it has better gradient propagation than sigmoid and tanh and tackles the dying ReLU problem with its slope. We also used batch normalization and L2 regularization in an attempt to normalize the activations of the various layers and reduce overfitting. In addition, we used a dropout regularization after each set of layers to reduce overfitting even more. We also used a generalization technique which is adding Gaussian noise at the output after each set of layers. Finally, we used max-pooling after three of the convolutions to reduce the computational cost, by reducing the number of parameters to learn. "
      ]
    },
    {
      "cell_type": "code",
      "metadata": {
        "id": "IT-GBudq7FbF",
        "colab": {
          "base_uri": "https://localhost:8080/"
        },
        "outputId": "9bd56238-ae49-4a86-93fa-d42a332820c4"
      },
      "source": [
        "deeper_discriminator = m.Sequential()\r\n",
        "\r\n",
        "deeper_discriminator.add(l.Conv2D(32, kernel_size=3, kernel_initializer='he_uniform',\r\n",
        "                  strides=1, padding='same', input_shape=(32, 32, 1), \r\n",
        "                  kernel_regularizer=r.l2(0.0005)))\r\n",
        "deeper_discriminator.add(l.LeakyReLU(alpha=0.2))\r\n",
        "deeper_discriminator.add(l.GaussianNoise(0.4))\r\n",
        "\r\n",
        "deeper_discriminator.add(l.Conv2D(32, kernel_size=3, kernel_initializer='he_uniform',\r\n",
        "                  strides=1, padding='same'))\r\n",
        "deeper_discriminator.add(l.BatchNormalization())\r\n",
        "deeper_discriminator.add(l.LeakyReLU(alpha=0.2))\r\n",
        "deeper_discriminator.add(l.MaxPooling2D(pool_size=2, strides=2))\r\n",
        "deeper_discriminator.add(l.Dropout(0.3))\r\n",
        "deeper_discriminator.add(l.GaussianNoise(0.4))\r\n",
        "\r\n",
        "\r\n",
        "deeper_discriminator.add(l.Conv2D(64, kernel_size=3, kernel_initializer='he_uniform',\r\n",
        "                  strides=1, padding='same', kernel_regularizer=r.l2(0.0005)))\r\n",
        "deeper_discriminator.add(l.LeakyReLU(alpha=0.2))\r\n",
        "deeper_discriminator.add(l.GaussianNoise(0.4))\r\n",
        "\r\n",
        "deeper_discriminator.add(l.Conv2D(64, kernel_size=3, kernel_initializer='he_uniform',\r\n",
        "                  strides=1, padding='same'))\r\n",
        "deeper_discriminator.add(l.BatchNormalization())\r\n",
        "deeper_discriminator.add(l.LeakyReLU(alpha=0.2))\r\n",
        "deeper_discriminator.add(l.MaxPooling2D(pool_size=2, strides=2))\r\n",
        "deeper_discriminator.add(l.Dropout(0.3))\r\n",
        "deeper_discriminator.add(l.GaussianNoise(0.4))\r\n",
        "\r\n",
        "\r\n",
        "deeper_discriminator.add(l.Conv2D(128, kernel_size=3, kernel_initializer='he_uniform',\r\n",
        "                  strides=1, padding='same', kernel_regularizer=r.l2(0.0005)))\r\n",
        "deeper_discriminator.add(l.LeakyReLU(alpha=0.2))\r\n",
        "deeper_discriminator.add(l.GaussianNoise(0.4))\r\n",
        "\r\n",
        "deeper_discriminator.add(l.Conv2D(128, kernel_size=3, kernel_initializer='he_uniform',\r\n",
        "                  strides=1, padding='same'))\r\n",
        "deeper_discriminator.add(l.BatchNormalization())\r\n",
        "deeper_discriminator.add(l.LeakyReLU(alpha=0.2))\r\n",
        "deeper_discriminator.add(l.MaxPooling2D(pool_size=2, strides=2))\r\n",
        "deeper_discriminator.add(l.Dropout(0.3))\r\n",
        "deeper_discriminator.add(l.GaussianNoise(0.4))\r\n",
        "\r\n",
        "deeper_discriminator.add(l.Flatten())\r\n",
        "\r\n",
        "deeper_discriminator.add(l.Dense(128,kernel_initializer='he_uniform'))\r\n",
        "deeper_discriminator.add(l.BatchNormalization())\r\n",
        "deeper_discriminator.add(l.LeakyReLU(alpha=0.2))\r\n",
        "deeper_discriminator.add(l.Dropout(0.4))\r\n",
        "deeper_discriminator.add(l.GaussianNoise(0.4))\r\n",
        "\r\n",
        "deeper_discriminator.add(l.Dense(96,kernel_initializer='he_uniform'))\r\n",
        "deeper_discriminator.add(l.BatchNormalization())\r\n",
        "deeper_discriminator.add(l.LeakyReLU(alpha=0.2))\r\n",
        "deeper_discriminator.add(l.Dropout(0.4))\r\n",
        "deeper_discriminator.add(l.GaussianNoise(0.45))\r\n",
        "\r\n",
        "deeper_discriminator.add(l.Dense(64,kernel_initializer='he_uniform'))\r\n",
        "deeper_discriminator.add(l.BatchNormalization())\r\n",
        "deeper_discriminator.add(l.LeakyReLU(alpha=0.2))\r\n",
        "deeper_discriminator.add(l.Dropout(0.4))\r\n",
        "deeper_discriminator.add(l.GaussianNoise(0.4))\r\n",
        "\r\n",
        "deeper_discriminator.add(l.Dense(10, activation='softmax'))\r\n",
        "\r\n",
        "deeper_discriminator.summary()\r\n",
        "# plot_model(deeper_discriminator, to_file='deeper_discriminator_plot.png',\r\n",
        "#            show_shapes=True, show_layer_names=True)"
      ],
      "execution_count": 26,
      "outputs": [
        {
          "output_type": "stream",
          "text": [
            "Model: \"sequential_7\"\n",
            "_________________________________________________________________\n",
            "Layer (type)                 Output Shape              Param #   \n",
            "=================================================================\n",
            "conv2d_12 (Conv2D)           (None, 32, 32, 32)        320       \n",
            "_________________________________________________________________\n",
            "leaky_re_lu_27 (LeakyReLU)   (None, 32, 32, 32)        0         \n",
            "_________________________________________________________________\n",
            "gaussian_noise_9 (GaussianNo (None, 32, 32, 32)        0         \n",
            "_________________________________________________________________\n",
            "conv2d_13 (Conv2D)           (None, 32, 32, 32)        9248      \n",
            "_________________________________________________________________\n",
            "batch_normalization_16 (Batc (None, 32, 32, 32)        128       \n",
            "_________________________________________________________________\n",
            "leaky_re_lu_28 (LeakyReLU)   (None, 32, 32, 32)        0         \n",
            "_________________________________________________________________\n",
            "max_pooling2d_9 (MaxPooling2 (None, 16, 16, 32)        0         \n",
            "_________________________________________________________________\n",
            "dropout_16 (Dropout)         (None, 16, 16, 32)        0         \n",
            "_________________________________________________________________\n",
            "gaussian_noise_10 (GaussianN (None, 16, 16, 32)        0         \n",
            "_________________________________________________________________\n",
            "conv2d_14 (Conv2D)           (None, 16, 16, 64)        18496     \n",
            "_________________________________________________________________\n",
            "leaky_re_lu_29 (LeakyReLU)   (None, 16, 16, 64)        0         \n",
            "_________________________________________________________________\n",
            "gaussian_noise_11 (GaussianN (None, 16, 16, 64)        0         \n",
            "_________________________________________________________________\n",
            "conv2d_15 (Conv2D)           (None, 16, 16, 64)        36928     \n",
            "_________________________________________________________________\n",
            "batch_normalization_17 (Batc (None, 16, 16, 64)        256       \n",
            "_________________________________________________________________\n",
            "leaky_re_lu_30 (LeakyReLU)   (None, 16, 16, 64)        0         \n",
            "_________________________________________________________________\n",
            "max_pooling2d_10 (MaxPooling (None, 8, 8, 64)          0         \n",
            "_________________________________________________________________\n",
            "dropout_17 (Dropout)         (None, 8, 8, 64)          0         \n",
            "_________________________________________________________________\n",
            "gaussian_noise_12 (GaussianN (None, 8, 8, 64)          0         \n",
            "_________________________________________________________________\n",
            "conv2d_16 (Conv2D)           (None, 8, 8, 128)         73856     \n",
            "_________________________________________________________________\n",
            "leaky_re_lu_31 (LeakyReLU)   (None, 8, 8, 128)         0         \n",
            "_________________________________________________________________\n",
            "gaussian_noise_13 (GaussianN (None, 8, 8, 128)         0         \n",
            "_________________________________________________________________\n",
            "conv2d_17 (Conv2D)           (None, 8, 8, 128)         147584    \n",
            "_________________________________________________________________\n",
            "batch_normalization_18 (Batc (None, 8, 8, 128)         512       \n",
            "_________________________________________________________________\n",
            "leaky_re_lu_32 (LeakyReLU)   (None, 8, 8, 128)         0         \n",
            "_________________________________________________________________\n",
            "max_pooling2d_11 (MaxPooling (None, 4, 4, 128)         0         \n",
            "_________________________________________________________________\n",
            "dropout_18 (Dropout)         (None, 4, 4, 128)         0         \n",
            "_________________________________________________________________\n",
            "gaussian_noise_14 (GaussianN (None, 4, 4, 128)         0         \n",
            "_________________________________________________________________\n",
            "flatten_3 (Flatten)          (None, 2048)              0         \n",
            "_________________________________________________________________\n",
            "dense_14 (Dense)             (None, 128)               262272    \n",
            "_________________________________________________________________\n",
            "batch_normalization_19 (Batc (None, 128)               512       \n",
            "_________________________________________________________________\n",
            "leaky_re_lu_33 (LeakyReLU)   (None, 128)               0         \n",
            "_________________________________________________________________\n",
            "dropout_19 (Dropout)         (None, 128)               0         \n",
            "_________________________________________________________________\n",
            "gaussian_noise_15 (GaussianN (None, 128)               0         \n",
            "_________________________________________________________________\n",
            "dense_15 (Dense)             (None, 96)                12384     \n",
            "_________________________________________________________________\n",
            "batch_normalization_20 (Batc (None, 96)                384       \n",
            "_________________________________________________________________\n",
            "leaky_re_lu_34 (LeakyReLU)   (None, 96)                0         \n",
            "_________________________________________________________________\n",
            "dropout_20 (Dropout)         (None, 96)                0         \n",
            "_________________________________________________________________\n",
            "gaussian_noise_16 (GaussianN (None, 96)                0         \n",
            "_________________________________________________________________\n",
            "dense_16 (Dense)             (None, 64)                6208      \n",
            "_________________________________________________________________\n",
            "batch_normalization_21 (Batc (None, 64)                256       \n",
            "_________________________________________________________________\n",
            "leaky_re_lu_35 (LeakyReLU)   (None, 64)                0         \n",
            "_________________________________________________________________\n",
            "dropout_21 (Dropout)         (None, 64)                0         \n",
            "_________________________________________________________________\n",
            "gaussian_noise_17 (GaussianN (None, 64)                0         \n",
            "_________________________________________________________________\n",
            "dense_17 (Dense)             (None, 10)                650       \n",
            "=================================================================\n",
            "Total params: 569,994\n",
            "Trainable params: 568,970\n",
            "Non-trainable params: 1,024\n",
            "_________________________________________________________________\n"
          ],
          "name": "stdout"
        }
      ]
    },
    {
      "cell_type": "markdown",
      "metadata": {
        "id": "puWdXt0A7X8g"
      },
      "source": [
        "# Compilation & Evaluation\r\n",
        "\r\n",
        "For the compilation of the Deeper Discriminator we used as loss function the categorical crossentropy for we had the tags one hot encoded, as optimizer the Adam optimizer and as metrics the accuracy of the predicted images. As far as the training is concerned we had our neural network train for 26 epochs with a decreasing learning rate, while enabling the shuffling of the images in the training set."
      ]
    },
    {
      "cell_type": "code",
      "metadata": {
        "id": "vrvfkcJy7X8i",
        "colab": {
          "base_uri": "https://localhost:8080/"
        },
        "outputId": "35270a5d-6e45-4fa3-d4f9-6de18fac2cf1"
      },
      "source": [
        "adaptive_lr = tf.keras.callbacks.ReduceLROnPlateau(monitor='val_loss', factor=0.2,\r\n",
        "                              patience=2, min_lr=0.00001)\r\n",
        "\r\n",
        "#data augmentation\r\n",
        "datagen = ImageDataGenerator(\r\n",
        "    rotation_range=15,\r\n",
        "    width_shift_range=0.1,\r\n",
        "    height_shift_range=0.1,\r\n",
        "    zoom_range=0.1,\r\n",
        "    horizontal_flip=True,\r\n",
        "    )\r\n",
        "datagen.fit(x_train)\r\n",
        "\r\n",
        "# Compilation\r\n",
        "deeper_discriminator.compile(loss='categorical_crossentropy', \r\n",
        "                      optimizer=o.Adam(lr=0.0009, decay=1e-6),\r\n",
        "                      metrics=['accuracy'])\r\n",
        "\r\n",
        "# Evaluation\r\n",
        "deeper_discriminator.fit_generator(datagen.flow(x_train, y_train, batch_size=64),\r\n",
        "                            epochs=26, shuffle=True, callbacks=[adaptive_lr],\r\n",
        "                            verbose=1, validation_data=(x_test,y_test))"
      ],
      "execution_count": 27,
      "outputs": [
        {
          "output_type": "stream",
          "text": [
            "Epoch 1/26\n"
          ],
          "name": "stdout"
        },
        {
          "output_type": "stream",
          "text": [
            "/usr/local/lib/python3.7/dist-packages/tensorflow/python/keras/engine/training.py:1844: UserWarning: `Model.fit_generator` is deprecated and will be removed in a future version. Please use `Model.fit`, which supports generators.\n",
            "  warnings.warn('`Model.fit_generator` is deprecated and '\n"
          ],
          "name": "stderr"
        },
        {
          "output_type": "stream",
          "text": [
            "782/782 [==============================] - 19s 23ms/step - loss: 2.6780 - accuracy: 0.1625 - val_loss: 2.3710 - val_accuracy: 0.2382\n",
            "Epoch 2/26\n",
            "782/782 [==============================] - 17s 22ms/step - loss: 2.0235 - accuracy: 0.2943 - val_loss: 1.7844 - val_accuracy: 0.3790\n",
            "Epoch 3/26\n",
            "782/782 [==============================] - 17s 22ms/step - loss: 1.8413 - accuracy: 0.3518 - val_loss: 1.6270 - val_accuracy: 0.4494\n",
            "Epoch 4/26\n",
            "782/782 [==============================] - 17s 22ms/step - loss: 1.7035 - accuracy: 0.4083 - val_loss: 1.6068 - val_accuracy: 0.4650\n",
            "Epoch 5/26\n",
            "782/782 [==============================] - 18s 22ms/step - loss: 1.6130 - accuracy: 0.4467 - val_loss: 1.3449 - val_accuracy: 0.5512\n",
            "Epoch 6/26\n",
            "782/782 [==============================] - 18s 23ms/step - loss: 1.5448 - accuracy: 0.4718 - val_loss: 1.4308 - val_accuracy: 0.5362\n",
            "Epoch 7/26\n",
            "782/782 [==============================] - 17s 22ms/step - loss: 1.5067 - accuracy: 0.4971 - val_loss: 1.2074 - val_accuracy: 0.5936\n",
            "Epoch 8/26\n",
            "782/782 [==============================] - 17s 22ms/step - loss: 1.4614 - accuracy: 0.5121 - val_loss: 1.2094 - val_accuracy: 0.5942\n",
            "Epoch 9/26\n",
            "782/782 [==============================] - 17s 22ms/step - loss: 1.4263 - accuracy: 0.5291 - val_loss: 1.2417 - val_accuracy: 0.6018\n",
            "Epoch 10/26\n",
            "782/782 [==============================] - 17s 22ms/step - loss: 1.3848 - accuracy: 0.5456 - val_loss: 1.0910 - val_accuracy: 0.6422\n",
            "Epoch 11/26\n",
            "782/782 [==============================] - 18s 23ms/step - loss: 1.3436 - accuracy: 0.5607 - val_loss: 1.0743 - val_accuracy: 0.6486\n",
            "Epoch 12/26\n",
            "782/782 [==============================] - 17s 22ms/step - loss: 1.3271 - accuracy: 0.5661 - val_loss: 1.0332 - val_accuracy: 0.6618\n",
            "Epoch 13/26\n",
            "782/782 [==============================] - 18s 23ms/step - loss: 1.3175 - accuracy: 0.5694 - val_loss: 1.0604 - val_accuracy: 0.6549\n",
            "Epoch 14/26\n",
            "782/782 [==============================] - 18s 22ms/step - loss: 1.3057 - accuracy: 0.5722 - val_loss: 1.0042 - val_accuracy: 0.6713\n",
            "Epoch 15/26\n",
            "782/782 [==============================] - 18s 23ms/step - loss: 1.2890 - accuracy: 0.5798 - val_loss: 1.0511 - val_accuracy: 0.6577\n",
            "Epoch 16/26\n",
            "782/782 [==============================] - 18s 23ms/step - loss: 1.2898 - accuracy: 0.5807 - val_loss: 1.0081 - val_accuracy: 0.6693\n",
            "Epoch 17/26\n",
            "782/782 [==============================] - 18s 24ms/step - loss: 1.2719 - accuracy: 0.5851 - val_loss: 1.0130 - val_accuracy: 0.6710\n",
            "Epoch 18/26\n",
            "782/782 [==============================] - 19s 24ms/step - loss: 1.2680 - accuracy: 0.5885 - val_loss: 0.9976 - val_accuracy: 0.6742\n",
            "Epoch 19/26\n",
            "782/782 [==============================] - 18s 24ms/step - loss: 1.2738 - accuracy: 0.5854 - val_loss: 0.9913 - val_accuracy: 0.6780\n",
            "Epoch 20/26\n",
            "782/782 [==============================] - 18s 23ms/step - loss: 1.2629 - accuracy: 0.5897 - val_loss: 0.9935 - val_accuracy: 0.6777\n",
            "Epoch 21/26\n",
            "782/782 [==============================] - 18s 23ms/step - loss: 1.2587 - accuracy: 0.5929 - val_loss: 0.9923 - val_accuracy: 0.6782\n",
            "Epoch 22/26\n",
            "782/782 [==============================] - 18s 23ms/step - loss: 1.2662 - accuracy: 0.5895 - val_loss: 0.9887 - val_accuracy: 0.6785\n",
            "Epoch 23/26\n",
            "782/782 [==============================] - 18s 23ms/step - loss: 1.2635 - accuracy: 0.5863 - val_loss: 0.9847 - val_accuracy: 0.6802\n",
            "Epoch 24/26\n",
            "782/782 [==============================] - 18s 23ms/step - loss: 1.2521 - accuracy: 0.5945 - val_loss: 0.9839 - val_accuracy: 0.6818\n",
            "Epoch 25/26\n",
            "782/782 [==============================] - 18s 23ms/step - loss: 1.2576 - accuracy: 0.5922 - val_loss: 0.9836 - val_accuracy: 0.6809\n",
            "Epoch 26/26\n",
            "782/782 [==============================] - 18s 23ms/step - loss: 1.2429 - accuracy: 0.5950 - val_loss: 0.9913 - val_accuracy: 0.6783\n"
          ],
          "name": "stdout"
        },
        {
          "output_type": "execute_result",
          "data": {
            "text/plain": [
              "<tensorflow.python.keras.callbacks.History at 0x7f003c14c250>"
            ]
          },
          "metadata": {
            "tags": []
          },
          "execution_count": 27
        }
      ]
    },
    {
      "cell_type": "markdown",
      "metadata": {
        "id": "L-0GX0_DBxpH"
      },
      "source": [
        "# New results\r\n",
        "\r\n",
        "Below we print the adversary images and also the class that the Deeper Discriminator predicts them to be."
      ]
    },
    {
      "cell_type": "code",
      "metadata": {
        "id": "tzMgQD1tBxpH",
        "colab": {
          "base_uri": "https://localhost:8080/",
          "height": 591
        },
        "outputId": "8649bcb1-663e-4bde-bd00-a45067d3ca11"
      },
      "source": [
        "plt.figure(figsize=(10,10))\r\n",
        "for i in range(len(generated_images)):\r\n",
        "  plt.subplot(len(images)*3, (len(classes) - 1)/3, i+1)\r\n",
        "  plt.axis('off')\r\n",
        "  plt.imshow(((generated_images[i]+1)/2).reshape((32,32)), cmap='gray')\r\n",
        "  plt.title(labels[np.argmax(deeper_discriminator.predict(generated_images[i]))])\r\n",
        "# save plot to file\r\n",
        "filename = 'generated_images.png' \r\n",
        "plt.savefig(filename)\r\n",
        "plt.show()"
      ],
      "execution_count": 28,
      "outputs": [
        {
          "output_type": "display_data",
          "data": {
            "image/png": "[encoded data removed]",
            "text/plain": [
              "<Figure size 720x720 with 9 Axes>"
            ]
          },
          "metadata": {
            "tags": [],
            "needs_background": "light"
          }
        }
      ]
    },
    {
      "cell_type": "markdown",
      "metadata": {
        "id": "6c0Pa-uqdVGA"
      },
      "source": [
        "As we can see from the above results, although the Deeper Discriminator is not perfect at classifying the adversarial images, it managed to discern many of them which the Discriminator could not, while both of them undergone the same training. In this point we have to inform the reader that the number of correct answers depends both on the adversarial images and the weights of our Deeper Discriminator. In this case we got a bit lucky not because we scored a seven out of nine but because the training phase was pretty good for this kind of image. For example if we run again the algorithm we probably won't have the same accuracy. In fact we have tried it some times and our worst accuracy was three out of nine. Our hunch is that as much closer the accuracy gets to the maximum one, on the CIFAR-10 test set, our results on the adversarial images also get better. However, as much as we train Dicsciminator (first model), the adversarial images become much more difficult for Deeper Discriminator to classify them correctly, achieving a lower accuracy than the one above. What one should keep in mind after this experiment is that with the introduction of gaussian noise one can have its neural network generalize better and as a result build a first defense against adversarial images."
      ]
    }
  ]
}
